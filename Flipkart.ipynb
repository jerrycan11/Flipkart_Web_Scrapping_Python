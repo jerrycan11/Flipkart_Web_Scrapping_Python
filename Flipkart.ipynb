{
 "cells": [
  {
   "cell_type": "code",
   "execution_count": null,
   "metadata": {},
   "outputs": [],
   "source": [
    "import requests\n",
    "from bs4 import BeautifulSoup\n",
    "import time\n",
    "\n",
    "st = \"index,name,rating,offerprice,orignalprice\"\n",
    "print(st)\n",
    "index=0\n",
    "searchWord = \"watch\"\n",
    "maxs=2\n",
    "pagenum=1\n",
    "\n",
    "\n",
    "while (pagenum<maxs):\n",
    "    nxtlink = \"https://www.flipkart.com/search?as=off&as-show=on&otracker=start&page=\"+str(pagenum)+\"&q=\"+searchWord+\"&viewType=grid\"\n",
    "    page = requests.get(nxtlink)\n",
    "    soup = BeautifulSoup(page.content, 'xml')\n",
    "    time.sleep(1)    \n",
    "      \n",
    "    if (pagenum==1):    \n",
    "        for link in soup.findAll('div', attrs ={\"class\":\"_1JKxvj _31rYcN\"}):\n",
    "            maxs = int(link.find_next('span',attrs ={\"class\":\"_3v8VuN\"}).getText().replace('Page 1 of ','').replace(',',''))\n",
    "            print(str(maxs))\n",
    "\n",
    "    pagenum=pagenum+1\n",
    "    for link in soup.findAll('div', attrs ={\"class\":\"_3yI_5w\"}):\n",
    "        for link in soup.findAll('div', attrs ={\"class\":\"col MP_3W3 _31eJXZ\"}):\n",
    "            for link in soup.findAll('div', attrs ={\"class\":\"_3liAhj\"}):\n",
    "                count=1;\n",
    "                try:\n",
    "                    name = link.find_next('a',attrs ={\"class\":\"_2cLu-l\"})[\"title\"].replace('\\n','').replace(',','')\n",
    "                    frating = link.find_next('div',attrs ={\"class\":\"niH0FQ _36Fcw_\"}).getText().replace('\\n','').replace(',','')\n",
    "                    offerprice = link.find_next('div',attrs ={\"class\":\"_1vC4OE\"}).getText().replace('\\n','').replace(',','')\n",
    "                    orignalprice = link.find_next('div',attrs ={\"class\":\"_3auQ3N\"}).getText().replace('\\n','').replace(',','')\n",
    "                    index=index+1\n",
    "                    st = str(index)+\",\"+name+\",\"+frating+\",\"+offerprice+\",\"+orignalprice\n",
    "                    print(st)\n",
    "                except:\n",
    "                    st = str(index)+\",\"+name+\",\"+frating+\",\"+offerprice+\",\"+orignalprice\n",
    "                    print(st)\n",
    "    "
   ]
  },
  {
   "cell_type": "code",
   "execution_count": null,
   "metadata": {
    "collapsed": true
   },
   "outputs": [],
   "source": []
  }
 ],
 "metadata": {
  "kernelspec": {
   "display_name": "Python 3",
   "language": "python",
   "name": "python3"
  },
  "language_info": {
   "codemirror_mode": {
    "name": "ipython",
    "version": 3
   },
   "file_extension": ".py",
   "mimetype": "text/x-python",
   "name": "python",
   "nbconvert_exporter": "python",
   "pygments_lexer": "ipython3",
   "version": "3.6.1"
  }
 },
 "nbformat": 4,
 "nbformat_minor": 2
}
